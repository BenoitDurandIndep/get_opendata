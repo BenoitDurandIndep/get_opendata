{
 "cells": [
  {
   "cell_type": "code",
   "execution_count": 1,
   "metadata": {},
   "outputs": [],
   "source": [
    "import pandas as pd\n",
    "import requests\n",
    "import json\n",
    "\n",
    "\n",
    "\n",
    "DATA_PATH=\"C:\\\\Projets\\\\WeatherData\\\\POC\\\\\"\n",
    "\n",
    "# load API keys from a file in folder .env, a line with the key name and the key value separated by a = sign\n",
    "def load_api_keys():\n",
    "    api_keys = {}\n",
    "    with open(\".env\\\\API_KEYS.cfg\") as f:\n",
    "        for line in f:\n",
    "            key, val = line.split(\"=\")\n",
    "            key = key.strip()\n",
    "            val = val.strip()            \n",
    "            api_keys[key] = val\n",
    "    return api_keys\n",
    "\n",
    "api_keys = load_api_keys()\n",
    "\n"
   ]
  },
  {
   "cell_type": "markdown",
   "metadata": {},
   "source": [
    "Free API for geocoding : \n",
    "https://openweathermap.org/api/geocoding-api  \n",
    "https://overpass-api.de/\n",
    "\n",
    "https://geocode.maps.co/ >> https://geocode.maps.co/search?street=555+5th+Ave&city=New+York&state=NY&postalcode=10017&country=US&api_key=api_key\n",
    "1 req / sec max 100k / month"
   ]
  },
  {
   "cell_type": "code",
   "execution_count": 3,
   "metadata": {},
   "outputs": [
    {
     "name": "stdout",
     "output_type": "stream",
     "text": [
      "Bordeaux, Gironde, Nouvelle-Aquitaine, Metropolitan France, France : lat=44.841225, lon=-0.5800364, importance=0.8740050666982948\n"
     ]
    }
   ],
   "source": [
    "# geocoding with geocode.maps.co\n",
    "city=\"BORDEAUX\"\n",
    "country=\"FR\"\n",
    "\n",
    "url_geo=\"https://geocode.maps.co/search?city=\"+city+\"&country=\"+country+\"&api_key=\"+api_keys[\"GEOCODE_MAPS_CO\"]\n",
    "\n",
    "response = requests.get(url_geo)\n",
    "# get first element in response\n",
    "geo_data = response.json()[0]\n",
    "# get display_name, lat, lon and importance\n",
    "display_name = geo_data[\"display_name\"]\n",
    "lat = geo_data[\"lat\"]\n",
    "lon = geo_data[\"lon\"]\n",
    "importance = geo_data[\"importance\"]\n",
    "\n",
    "print(f\"{display_name} : lat={lat}, lon={lon}, importance={importance}\")\n",
    "if importance<0.5:\n",
    "    print(\"Warning: importance is low, the location may be incorrect\")\n"
   ]
  },
  {
   "cell_type": "code",
   "execution_count": 7,
   "metadata": {},
   "outputs": [
    {
     "name": "stdout",
     "output_type": "stream",
     "text": [
      "{\"meta\":{\"name\":\"openaq-api\",\"license\":\"\",\"website\":\"/\",\"page\":1,\"limit\":100,\"found\":12},\"results\":[{\"id\":3689,\"city\":\"ATMO NOUVELLE-AQUITAINE\",\"name\":\"NET-FR058A\",\"entity\":null,\"country\":\"FR\",\"sources\":null,\"isMobile\":false,\"isAnalysis\":null,\"parameters\":[{\"id\":1,\"unit\":\"µg/m³\",\"count\":37749,\"average\":16.14284461719223,\"lastValue\":7.9,\"parameter\":\"pm10\",\"displayName\":\"pm10 µg/m³\",\"lastUpdated\":\"2024-03-01T19:00:00+00:00\",\"parameterId\":1,\"firstUpdated\":\"2016-11-21T11:00:00+00:00\",\"manufacturers\":null},{\"id\":5,\"unit\":\"µg/m³\",\"count\":42395,\"average\":14.325079226746874,\"lastValue\":6.3,\"parameter\":\"no2\",\"displayName\":\"no2 µg/m³\",\"lastUpdated\":\"2024-03-01T19:00:00+00:00\",\"parameterId\":5,\"firstUpdated\":\"2016-11-21T11:00:00+00:00\",\"manufacturers\":null},{\"id\":19843,\"unit\":\"µg/m³\",\"count\":5993,\"average\":1.2898028552005427,\"lastValue\":0.5,\"parameter\":\"no\",\"displayName\":\"no µg/m³\",\"lastUpdated\":\"2024-03-01T19:00:00+00:00\",\"parameterId\":19843,\"firstUpdated\":\"2023-03-30T05:00:00+00:00\",\"manufacturers\":null},{\"id\":3,\"unit\":\"µg/m³\",\"count\":42395,\"average\":53.441450666244066,\"lastValue\":79.1,\"parameter\":\"o3\",\"displayName\":\"o3 µg/m³\",\"lastUpdated\":\"2024-03-01T19:00:00+00:00\",\"parameterId\":3,\"firstUpdated\":\"2016-11-21T11:00:00+00:00\",\"manufacturers\":null},{\"id\":2,\"unit\":\"µg/m³\",\"count\":37407,\"average\":10.50503059640149,\"lastValue\":5.2,\"parameter\":\"pm25\",\"displayName\":\"pm25 µg/m³\",\"lastUpdated\":\"2024-03-01T19:00:00+00:00\",\"parameterId\":2,\"firstUpdated\":\"2016-11-21T16:00:00+00:00\",\"manufacturers\":null}],\"sensorType\":null,\"coordinates\":{\"latitude\":44.80055599999999,\"longitude\":-0.588056},\"lastUpdated\":\"2024-03-01T19:00:00+00:00\",\"firstUpdated\":\"2016-11-21T11:00:00+00:00\",\"measurements\":165939,\"bounds\":[-0.588056,44.80055599999999,-0.588056,44.80055599999999],\"manufacturers\":[{\"modelName\":\"Government Monitor\",\"manufacturerName\":\"Unknown Governmental Organization\"}]},{\"id\":3572,\"city\":\"ATMO NOUVELLE-AQUITAINE\",\"name\":\"NET-FR058A\",\"entity\":null,\"country\":\"FR\",\"sources\":null,\"isMobile\":false,\"isAnalysis\":null,\"parameters\":[{\"id\":6,\"unit\":\"µg/m³\",\"count\":42451,\"average\":1.5202876824408085,\"lastValue\":0.4,\"parameter\":\"so2\",\"displayName\":\"so2 µg/m³\",\"lastUpdated\":\"2024-03-04T07:00:00+00:00\",\"parameterId\":6,\"firstUpdated\":\"2016-11-21T11:00:00+00:00\",\"manufacturers\":null},{\"id\":3,\"unit\":\"µg/m³\",\"count\":36160,\"average\":55.12392799468055,\"lastValue\":25.1,\"parameter\":\"o3\",\"displayName\":\"o3 µg/m³\",\"lastUpdated\":\"2024-03-04T07:00:00+00:00\",\"parameterId\":3,\"firstUpdated\":\"2016-11-21T11:00:00+00:00\",\"manufacturers\":null},{\"id\":5,\"unit\":\"µg/m³\",\"count\":45281,\"average\":12.837586944232788,\"lastValue\":37.5,\"parameter\":\"no2\",\"displayName\":\"no2 µg/m³\",\"lastUpdated\":\"2024-03-04T07:00:00+00:00\",\"parameterId\":5,\"firstUpdated\":\"2016-11-21T11:00:00+00:00\",\"manufacturers\":null},{\"id\":2,\"unit\":\"µg/m³\",\"count\":36582,\"average\":8.904542415247569,\"lastValue\":5.1,\"parameter\":\"pm25\",\"displayName\":\"pm25 µg/m³\",\"lastUpdated\":\"2024-03-04T07:00:00+00:00\",\"parameterId\":2,\"firstUpdated\":\"2016-11-21T16:00:00+00:00\",\"manufacturers\":null},{\"id\":1,\"unit\":\"µg/m³\",\"count\":44602,\"average\":16.722810478735394,\"lastValue\":7.5,\"parameter\":\"pm10\",\"displayName\":\"pm10 µg/m³\",\"lastUpdated\":\"2024-03-04T07:00:00+00:00\",\"parameterId\":1,\"firstUpdated\":\"2016-11-21T11:00:00+00:00\",\"manufacturers\":null},{\"id\":19843,\"unit\":\"µg/m³\",\"count\":6056,\"average\":1.8660993873383258,\"lastValue\":3.3,\"parameter\":\"no\",\"displayName\":\"no µg/m³\",\"lastUpdated\":\"2024-03-04T07:00:00+00:00\",\"parameterId\":19843,\"firstUpdated\":\"2023-03-30T05:00:00+00:00\",\"manufacturers\":null}],\"sensorType\":null,\"coordinates\":{\"latitude\":44.90027599999999,\"longitude\":-0.514722},\"lastUpdated\":\"2024-03-04T07:00:00+00:00\",\"firstUpdated\":\"2016-11-21T11:00:00+00:00\",\"measurements\":211132,\"bounds\":[-0.514722,44.90027599999999,-0.514722,44.90027599999999],\"manufacturers\":[{\"modelName\":\"Government Monitor\",\"manufacturerName\":\"Unknown Governmental Organization\"}]},{\"id\":3653,\"city\":\"ATMO NOUVELLE-AQUITAINE\",\"name\":\"NET-FR058A\",\"entity\":null,\"country\":\"FR\",\"sources\":null,\"isMobile\":false,\"isAnalysis\":null,\"parameters\":[{\"id\":3,\"unit\":\"µg/m³\",\"count\":5538,\"average\":76.7976190476191,\"lastValue\":26.9,\"parameter\":\"o3\",\"displayName\":\"o3 µg/m³\",\"lastUpdated\":\"2024-03-04T07:00:00+00:00\",\"parameterId\":3,\"firstUpdated\":\"2023-05-06T00:00:00+00:00\",\"manufacturers\":null},{\"id\":19843,\"unit\":\"µg/m³\",\"count\":5606,\"average\":0.8337837837837832,\"lastValue\":1.5,\"parameter\":\"no\",\"displayName\":\"no µg/m³\",\"lastUpdated\":\"2024-03-04T07:00:00+00:00\",\"parameterId\":19843,\"firstUpdated\":\"2023-05-06T22:00:00+00:00\",\"manufacturers\":null},{\"id\":1,\"unit\":\"µg/m³\",\"count\":5501,\"average\":15.503381147540972,\"lastValue\":10.8,\"parameter\":\"pm10\",\"displayName\":\"pm10 µg/m³\",\"lastUpdated\":\"2024-03-04T06:00:00+00:00\",\"parameterId\":1,\"firstUpdated\":\"2023-05-06T00:00:00+00:00\",\"manufacturers\":null},{\"id\":5,\"unit\":\"µg/m³\",\"count\":5638,\"average\":7.307621951219514,\"lastValue\":23.8,\"parameter\":\"no2\",\"displayName\":\"no2 µg/m³\",\"lastUpdated\":\"2024-03-04T07:00:00+00:00\",\"parameterId\":5,\"firstUpdated\":\"2023-05-06T00:00:00+00:00\",\"manufacturers\":null}],\"sensorType\":null,\"coordinates\":{\"latitude\":44.86138999999999,\"longitude\":-0.579444},\"lastUpdated\":\"2024-03-04T07:00:00+00:00\",\"firstUpdated\":\"2023-05-06T00:00:00+00:00\",\"measurements\":22283,\"bounds\":[-0.579444,44.86138999999999,-0.579444,44.86138999999999],\"manufacturers\":[{\"modelName\":\"Government Monitor\",\"manufacturerName\":\"Unknown Governmental Organization\"}]},{\"id\":3664,\"city\":\"ATMO NOUVELLE-AQUITAINE\",\"name\":\"NET-FR058A\",\"entity\":null,\"country\":\"FR\",\"sources\":null,\"isMobile\":false,\"isAnalysis\":null,\"parameters\":[{\"id\":19843,\"unit\":\"µg/m³\",\"count\":6115,\"average\":4.28095238095238,\"lastValue\":36.8,\"parameter\":\"no\",\"displayName\":\"no µg/m³\",\"lastUpdated\":\"2024-03-04T07:00:00+00:00\",\"parameterId\":19843,\"firstUpdated\":\"2023-03-30T05:00:00+00:00\",\"manufacturers\":null},{\"id\":1,\"unit\":\"µg/m³\",\"count\":39783,\"average\":16.57684764968818,\"lastValue\":6.9,\"parameter\":\"pm10\",\"displayName\":\"pm10 µg/m³\",\"lastUpdated\":\"2024-03-04T06:00:00+00:00\",\"parameterId\":1,\"firstUpdated\":\"2016-11-21T11:00:00+00:00\",\"manufacturers\":null},{\"id\":5,\"unit\":\"µg/m³\",\"count\":44956,\"average\":20.63062058013449,\"lastValue\":35.4,\"parameter\":\"no2\",\"displayName\":\"no2 µg/m³\",\"lastUpdated\":\"2024-03-04T07:00:00+00:00\",\"parameterId\":5,\"firstUpdated\":\"2016-11-21T11:00:00+00:00\",\"manufacturers\":null}],\"sensorType\":null,\"coordinates\":{\"latitude\":44.84138999999998,\"longitude\":-0.65},\"lastUpdated\":\"2024-03-04T07:00:00+00:00\",\"firstUpdated\":\"2016-11-21T11:00:00+00:00\",\"measurements\":90854,\"bounds\":[-0.65,44.84138999999998,-0.65,44.84138999999998],\"manufacturers\":[{\"modelName\":\"Government Monitor\",\"manufacturerName\":\"Unknown Governmental Organization\"}]},{\"id\":2162616,\"city\":\"BASSENS\",\"name\":\"BASSENS\",\"entity\":null,\"country\":\"FR\",\"sources\":null,\"isMobile\":false,\"isAnalysis\":null,\"parameters\":[{\"id\":1,\"unit\":\"µg/m³\",\"count\":1062,\"average\":12.804761904761904,\"lastValue\":10.2,\"parameter\":\"pm10\",\"displayName\":\"pm10 µg/m³\",\"lastUpdated\":\"2024-04-21T10:00:00+00:00\",\"parameterId\":1,\"firstUpdated\":\"2024-01-28T23:00:00+00:00\",\"manufacturers\":null},{\"id\":3,\"unit\":\"µg/m³\",\"count\":1063,\"average\":54.51428571428571,\"lastValue\":79.8,\"parameter\":\"o3\",\"displayName\":\"o3 µg/m³\",\"lastUpdated\":\"2024-04-21T10:00:00+00:00\",\"parameterId\":3,\"firstUpdated\":\"2024-01-28T23:00:00+00:00\",\"manufacturers\":null},{\"id\":6,\"unit\":\"µg/m³\",\"count\":968,\"average\":3.9095238095238094,\"lastValue\":0.5,\"parameter\":\"so2\",\"displayName\":\"so2 µg/m³\",\"lastUpdated\":\"2024-04-21T08:00:00+00:00\",\"parameterId\":6,\"firstUpdated\":\"2024-01-28T23:00:00+00:00\",\"manufacturers\":null},{\"id\":2,\"unit\":\"µg/m³\",\"count\":1062,\"average\":8.90952380952381,\"lastValue\":6.3,\"parameter\":\"pm25\",\"displayName\":\"pm25 µg/m³\",\"lastUpdated\":\"2024-04-21T10:00:00+00:00\",\"parameterId\":2,\"firstUpdated\":\"2024-01-28T23:00:00+00:00\",\"manufacturers\":null},{\"id\":19843,\"unit\":\"µg/m³\",\"count\":785,\"average\":0.6190476190476191,\"lastValue\":5.0,\"parameter\":\"no\",\"displayName\":\"no µg/m³\",\"lastUpdated\":\"2024-03-11T09:00:00+00:00\",\"parameterId\":19843,\"firstUpdated\":\"2024-01-28T23:00:00+00:00\",\"manufacturers\":null},{\"id\":5,\"unit\":\"µg/m³\",\"count\":1055,\"average\":7.047619047619049,\"lastValue\":3.0,\"parameter\":\"no2\",\"displayName\":\"no2 µg/m³\",\"lastUpdated\":\"2024-04-21T10:00:00+00:00\",\"parameterId\":5,\"firstUpdated\":\"2024-01-28T23:00:00+00:00\",\"manufacturers\":null}],\"sensorType\":null,\"coordinates\":{\"latitude\":44.90029500003576,\"longitude\":-0.5158349997004273},\"lastUpdated\":\"2024-04-21T10:00:00+00:00\",\"firstUpdated\":\"2024-01-28T23:00:00+00:00\",\"measurements\":5995,\"bounds\":[-0.5158349997004273,44.90029500003576,-0.5158349997004273,44.90029500003576],\"manufacturers\":[{\"modelName\":\"Government Monitor\",\"manufacturerName\":\"Unknown Governmental Organization\"}]},{\"id\":2162618,\"city\":\"BORDEAUX\",\"name\":\"GRAND PARC\",\"entity\":null,\"country\":\"FR\",\"sources\":null,\"isMobile\":false,\"isAnalysis\":null,\"parameters\":[{\"id\":5,\"unit\":\"µg/m³\",\"count\":1064,\"average\":10.285714285714286,\"lastValue\":4.6,\"parameter\":\"no2\",\"displayName\":\"no2 µg/m³\",\"lastUpdated\":\"2024-04-21T10:00:00+00:00\",\"parameterId\":5,\"firstUpdated\":\"2024-01-28T23:00:00+00:00\",\"manufacturers\":null},{\"id\":1,\"unit\":\"µg/m³\",\"count\":1066,\"average\":14.544999999999998,\"lastValue\":-1.0,\"parameter\":\"pm10\",\"displayName\":\"pm10 µg/m³\",\"lastUpdated\":\"2024-04-21T10:00:00+00:00\",\"parameterId\":1,\"firstUpdated\":\"2024-01-28T23:00:00+00:00\",\"manufacturers\":null},{\"id\":3,\"unit\":\"µg/m³\",\"count\":1029,\"average\":51.37142857142858,\"lastValue\":78.4,\"parameter\":\"o3\",\"displayName\":\"o3 µg/m³\",\"lastUpdated\":\"2024-04-21T10:00:00+00:00\",\"parameterId\":3,\"firstUpdated\":\"2024-01-28T23:00:00+00:00\",\"manufacturers\":null},{\"id\":19843,\"unit\":\"µg/m³\",\"count\":791,\"average\":0.9142857142857143,\"lastValue\":2.3,\"parameter\":\"no\",\"displayName\":\"no µg/m³\",\"lastUpdated\":\"2024-03-11T09:00:00+00:00\",\"parameterId\":19843,\"firstUpdated\":\"2024-01-28T23:00:00+00:00\",\"manufacturers\":null}],\"sensorType\":null,\"coordinates\":{\"latitude\":44.86120999988481,\"longitude\":-0.5803700002542934},\"lastUpdated\":\"2024-04-21T10:00:00+00:00\",\"firstUpdated\":\"2024-01-28T23:00:00+00:00\",\"measurements\":3950,\"bounds\":[-0.5803700002542934,44.86120999988481,-0.5803700002542934,44.86120999988481],\"manufacturers\":[{\"modelName\":\"Government Monitor\",\"manufacturerName\":\"Unknown Governmental Organization\"}]},{\"id\":2162617,\"city\":\"BORDEAUX\",\"name\":\"Bordeaux_GAUTIER\",\"entity\":null,\"country\":\"FR\",\"sources\":null,\"isMobile\":false,\"isAnalysis\":null,\"parameters\":[{\"id\":1,\"unit\":\"µg/m³\",\"count\":1180,\"average\":18.365000000000002,\"lastValue\":-1.0,\"parameter\":\"pm10\",\"displayName\":\"pm10 µg/m³\",\"lastUpdated\":\"2024-04-21T10:00:00+00:00\",\"parameterId\":1,\"firstUpdated\":\"2024-01-28T23:00:00+00:00\",\"manufacturers\":null},{\"id\":19843,\"unit\":\"µg/m³\",\"count\":864,\"average\":40.023809523809526,\"lastValue\":64.5,\"parameter\":\"no\",\"displayName\":\"no µg/m³\",\"lastUpdated\":\"2024-03-11T07:00:00+00:00\",\"parameterId\":19843,\"firstUpdated\":\"2024-01-28T23:00:00+00:00\",\"manufacturers\":null},{\"id\":2,\"unit\":\"µg/m³\",\"count\":1149,\"average\":6.01,\"lastValue\":-1.0,\"parameter\":\"pm25\",\"displayName\":\"pm25 µg/m³\",\"lastUpdated\":\"2024-04-21T10:00:00+00:00\",\"parameterId\":2,\"firstUpdated\":\"2024-01-28T23:00:00+00:00\",\"manufacturers\":null},{\"id\":5,\"unit\":\"µg/m³\",\"count\":1137,\"average\":32.2904761904762,\"lastValue\":14.7,\"parameter\":\"no2\",\"displayName\":\"no2 µg/m³\",\"lastUpdated\":\"2024-04-21T10:00:00+00:00\",\"parameterId\":5,\"firstUpdated\":\"2024-01-28T23:00:00+00:00\",\"manufacturers\":null}],\"sensorType\":null,\"coordinates\":{\"latitude\":44.83382400000155,\"longitude\":-0.5985249997570591},\"lastUpdated\":\"2024-04-21T10:00:00+00:00\",\"firstUpdated\":\"2024-01-28T23:00:00+00:00\",\"measurements\":4330,\"bounds\":[-0.5985249997570591,44.83382400000155,-0.5985249997570591,44.83382400000155],\"manufacturers\":[{\"modelName\":\"Government Monitor\",\"manufacturerName\":\"Unknown Governmental Organization\"}]},{\"id\":3574,\"city\":\"Gironde\",\"name\":\"FR31003\",\"entity\":null,\"country\":\"FR\",\"sources\":null,\"isMobile\":false,\"isAnalysis\":null,\"parameters\":[{\"id\":19843,\"unit\":\"µg/m³\",\"count\":5562,\"average\":2.2066712049012924,\"lastValue\":6.8,\"parameter\":\"no\",\"displayName\":\"no µg/m³\",\"lastUpdated\":\"2024-01-08T12:00:00+00:00\",\"parameterId\":19843,\"firstUpdated\":\"2023-03-30T05:00:00+00:00\",\"manufacturers\":null},{\"id\":5,\"unit\":\"µg/m³\",\"count\":44739,\"average\":17.221166859420684,\"lastValue\":13.9,\"parameter\":\"no2\",\"displayName\":\"no2 µg/m³\",\"lastUpdated\":\"2024-01-08T12:00:00+00:00\",\"parameterId\":5,\"firstUpdated\":\"2016-11-21T11:00:00+00:00\",\"manufacturers\":null},{\"id\":1,\"unit\":\"µg/m³\",\"count\":36938,\"average\":17.709160284463852,\"lastValue\":17.3,\"parameter\":\"pm10\",\"displayName\":\"pm10 µg/m³\",\"lastUpdated\":\"2024-01-08T11:00:00+00:00\",\"parameterId\":1,\"firstUpdated\":\"2016-11-21T13:00:00+00:00\",\"manufacturers\":null}],\"sensorType\":null,\"coordinates\":{\"latitude\":44.849695025703,\"longitude\":-0.543888582031301},\"lastUpdated\":\"2024-01-08T12:00:00+00:00\",\"firstUpdated\":\"2016-11-21T11:00:00+00:00\",\"measurements\":87239,\"bounds\":[-0.543888582031301,44.849695025703,-0.543888582031301,44.849695025703],\"manufacturers\":[{\"modelName\":\"Government Monitor\",\"manufacturerName\":\"Unknown Governmental Organization\"}]},{\"id\":2162619,\"city\":\"MÉRIGNAC\",\"name\":\"MERIGNAC\",\"entity\":null,\"country\":\"FR\",\"sources\":null,\"isMobile\":false,\"isAnalysis\":null,\"parameters\":[{\"id\":5,\"unit\":\"µg/m³\",\"count\":1064,\"average\":24.466666666666665,\"lastValue\":4.4,\"parameter\":\"no2\",\"displayName\":\"no2 µg/m³\",\"lastUpdated\":\"2024-04-21T10:00:00+00:00\",\"parameterId\":5,\"firstUpdated\":\"2024-01-28T23:00:00+00:00\",\"manufacturers\":null},{\"id\":1,\"unit\":\"µg/m³\",\"count\":1102,\"average\":14.399999999999997,\"lastValue\":-1.0,\"parameter\":\"pm10\",\"displayName\":\"pm10 µg/m³\",\"lastUpdated\":\"2024-04-21T10:00:00+00:00\",\"parameterId\":1,\"firstUpdated\":\"2024-01-28T23:00:00+00:00\",\"manufacturers\":null},{\"id\":19843,\"unit\":\"µg/m³\",\"count\":789,\"average\":16.947619047619042,\"lastValue\":11.8,\"parameter\":\"no\",\"displayName\":\"no µg/m³\",\"lastUpdated\":\"2024-03-11T07:00:00+00:00\",\"parameterId\":19843,\"firstUpdated\":\"2024-01-28T23:00:00+00:00\",\"manufacturers\":null}],\"sensorType\":null,\"coordinates\":{\"latitude\":44.84137300016613,\"longitude\":-0.6510679997143803},\"lastUpdated\":\"2024-04-21T10:00:00+00:00\",\"firstUpdated\":\"2024-01-28T23:00:00+00:00\",\"measurements\":2955,\"bounds\":[-0.6510679997143803,44.84137300016613,-0.6510679997143803,44.84137300016613],\"manufacturers\":[{\"modelName\":\"Government Monitor\",\"manufacturerName\":\"Unknown Governmental Organization\"}]},{\"id\":2162620,\"city\":\"TALENCE\",\"name\":\"TALENCE\",\"entity\":null,\"country\":\"FR\",\"sources\":null,\"isMobile\":false,\"isAnalysis\":null,\"parameters\":[{\"id\":3,\"unit\":\"µg/m³\",\"count\":1017,\"average\":44.271428571428565,\"lastValue\":76.8,\"parameter\":\"o3\",\"displayName\":\"o3 µg/m³\",\"lastUpdated\":\"2024-04-21T10:00:00+00:00\",\"parameterId\":3,\"firstUpdated\":\"2024-01-28T23:00:00+00:00\",\"manufacturers\":null},{\"id\":5,\"unit\":\"µg/m³\",\"count\":1011,\"average\":9.984210526315792,\"lastValue\":3.7,\"parameter\":\"no2\",\"displayName\":\"no2 µg/m³\",\"lastUpdated\":\"2024-04-21T10:00:00+00:00\",\"parameterId\":5,\"firstUpdated\":\"2024-01-28T23:00:00+00:00\",\"manufacturers\":null},{\"id\":19843,\"unit\":\"µg/m³\",\"count\":757,\"average\":1.194736842105263,\"lastValue\":1.0,\"parameter\":\"no\",\"displayName\":\"no µg/m³\",\"lastUpdated\":\"2024-03-11T07:00:00+00:00\",\"parameterId\":19843,\"firstUpdated\":\"2024-01-28T23:00:00+00:00\",\"manufacturers\":null},{\"id\":1,\"unit\":\"µg/m³\",\"count\":1018,\"average\":12.719047619047618,\"lastValue\":8.8,\"parameter\":\"pm10\",\"displayName\":\"pm10 µg/m³\",\"lastUpdated\":\"2024-04-21T10:00:00+00:00\",\"parameterId\":1,\"firstUpdated\":\"2024-01-28T23:00:00+00:00\",\"manufacturers\":null},{\"id\":2,\"unit\":\"µg/m³\",\"count\":1018,\"average\":8.295238095238096,\"lastValue\":6.0,\"parameter\":\"pm25\",\"displayName\":\"pm25 µg/m³\",\"lastUpdated\":\"2024-04-21T10:00:00+00:00\",\"parameterId\":2,\"firstUpdated\":\"2024-01-28T23:00:00+00:00\",\"manufacturers\":null}],\"sensorType\":null,\"coordinates\":{\"latitude\":44.80045999978738,\"longitude\":-0.5893979996894178},\"lastUpdated\":\"2024-04-21T10:00:00+00:00\",\"firstUpdated\":\"2024-01-28T23:00:00+00:00\",\"measurements\":4821,\"bounds\":[-0.5893979996894178,44.80045999978738,-0.5893979996894178,44.80045999978738],\"manufacturers\":[{\"modelName\":\"Government Monitor\",\"manufacturerName\":\"Unknown Governmental Organization\"}]},{\"id\":3794,\"city\":null,\"name\":\"FR31031\",\"entity\":null,\"country\":\"FR\",\"sources\":null,\"isMobile\":false,\"isAnalysis\":null,\"parameters\":[{\"id\":3,\"unit\":\"µg/m³\",\"count\":10600,\"average\":53.44264245283009,\"lastValue\":2.6,\"parameter\":\"o3\",\"displayName\":\"o3 µg/m³\",\"lastUpdated\":\"2019-01-16T07:00:00+00:00\",\"parameterId\":3,\"firstUpdated\":\"2016-11-21T11:00:00+00:00\",\"manufacturers\":null}],\"sensorType\":null,\"coordinates\":{\"latitude\":44.9130559994632,\"longitude\":-0.384444},\"lastUpdated\":\"2019-01-16T07:00:00+00:00\",\"firstUpdated\":\"2016-11-21T11:00:00+00:00\",\"measurements\":10600,\"bounds\":[-0.384444,44.9130559994632,-0.384444,44.9130559994632],\"manufacturers\":[{\"modelName\":\"Government Monitor\",\"manufacturerName\":\"Unknown Governmental Organization\"}]},{\"id\":3817,\"city\":null,\"name\":\"FR31030\",\"entity\":null,\"country\":\"FR\",\"sources\":null,\"isMobile\":false,\"isAnalysis\":null,\"parameters\":[{\"id\":3,\"unit\":\"µg/m³\",\"count\":10922,\"average\":56.51471433803372,\"lastValue\":47.7,\"parameter\":\"o3\",\"displayName\":\"o3 µg/m³\",\"lastUpdated\":\"2019-01-31T12:00:00+00:00\",\"parameterId\":3,\"firstUpdated\":\"2016-11-21T11:00:00+00:00\",\"manufacturers\":null}],\"sensorType\":null,\"coordinates\":{\"latitude\":44.7224999994632,\"longitude\":-0.576111},\"lastUpdated\":\"2019-01-31T12:00:00+00:00\",\"firstUpdated\":\"2016-11-21T11:00:00+00:00\",\"measurements\":10922,\"bounds\":[-0.576111,44.7224999994632,-0.576111,44.7224999994632],\"manufacturers\":[{\"modelName\":\"Government Monitor\",\"manufacturerName\":\"Unknown Governmental Organization\"}]}]}\n"
     ]
    }
   ],
   "source": [
    "city=\"BORDEAUX\"\n",
    "country=\"FR\"\n",
    "\n",
    "\n",
    "# url_rech = \"https://api.openaq.org/v2/locations?country=\"+country+\"&city=\"+city+\"&radius=20000&limit=100&page=1&offset=0&sort=asc&order_by=city\"\n",
    "url_rech = \"https://api.openaq.org/v2/locations?country=\"+country+\"&coordinates=44.83,-0.59&radius=20000&limit=100&page=1&offset=0&sort=asc&order_by=city\"\n",
    "\n",
    "headers = {\"accept\": \"application/json\"}\n",
    "\n",
    "response = requests.get(url_rech, headers=headers)\n",
    "\n",
    "print(response.text)\n",
    "\n",
    "# Define the file path\n",
    "\n",
    "json_file_path = DATA_PATH +city+ \"_response.json\"\n",
    "\n",
    "# Write the response.text to the JSON file\n",
    "with open(json_file_path, \"w\",encoding='utf-8') as file:\n",
    "    # json.dump(response.text, file,ensure_ascii=False,indent=4)\n",
    "    file.write(response.text)\n"
   ]
  }
 ],
 "metadata": {
  "kernelspec": {
   "display_name": ".env",
   "language": "python",
   "name": "python3"
  },
  "language_info": {
   "codemirror_mode": {
    "name": "ipython",
    "version": 3
   },
   "file_extension": ".py",
   "mimetype": "text/x-python",
   "name": "python",
   "nbconvert_exporter": "python",
   "pygments_lexer": "ipython3",
   "version": "3.12.0"
  }
 },
 "nbformat": 4,
 "nbformat_minor": 2
}
